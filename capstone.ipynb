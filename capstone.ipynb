{
  "cells": [
    {
      "cell_type": "markdown",
      "metadata": {
        "id": "GxNPaBkpgX-8"
      },
      "source": [
        "#PySpark Setup"
      ]
    },
    {
      "cell_type": "code",
      "execution_count": 1,
      "metadata": {
        "id": "WrGrXc1zgPil"
      },
      "outputs": [
        {
          "name": "stdout",
          "output_type": "stream",
          "text": [
            "Note: you may need to restart the kernel to use updated packages.\n"
          ]
        }
      ],
      "source": [
        "pip install -q pyspark"
      ]
    },
    {
      "cell_type": "code",
      "execution_count": 11,
      "metadata": {
        "colab": {
          "base_uri": "https://localhost:8080/",
          "height": 220
        },
        "id": "x69sxGIdgjWA",
        "outputId": "6ddc285c-e382-485e-aff8-d56cc4ff4289"
      },
      "outputs": [
        {
          "data": {
            "text/html": [
              "\n",
              "            <div>\n",
              "                <p><b>SparkSession - in-memory</b></p>\n",
              "                \n",
              "        <div>\n",
              "            <p><b>SparkContext</b></p>\n",
              "\n",
              "            <p><a href=\"http://6f62c56460da:4040\">Spark UI</a></p>\n",
              "\n",
              "            <dl>\n",
              "              <dt>Version</dt>\n",
              "                <dd><code>v3.3.2</code></dd>\n",
              "              <dt>Master</dt>\n",
              "                <dd><code>local[*]</code></dd>\n",
              "              <dt>AppName</dt>\n",
              "                <dd><code>pyspark-shell</code></dd>\n",
              "            </dl>\n",
              "        </div>\n",
              "        \n",
              "            </div>\n",
              "        "
            ],
            "text/plain": [
              "<pyspark.sql.session.SparkSession at 0x7ff639a1a6a0>"
            ]
          },
          "execution_count": 11,
          "metadata": {},
          "output_type": "execute_result"
        }
      ],
      "source": [
        "from pyspark.sql import SparkSession\n",
        "spark = SparkSession.builder.master(\"local[*]\").getOrCreate()\n",
        "spark = SparkSession.builder\\\n",
        "        .master(\"local\")\\\n",
        "        .appName(\"Colab\")\\\n",
        "        .config('spark.ui.port', '4050')\\\n",
        "        .getOrCreate()\n",
        "spark"
      ]
    },
    {
      "cell_type": "code",
      "execution_count": 12,
      "metadata": {
        "id": "bTDCGDHIgpCZ"
      },
      "outputs": [],
      "source": [
        "import pyspark.sql.functions as F"
      ]
    },
    {
      "cell_type": "markdown",
      "metadata": {
        "id": "Tl6Zt35ehtLw"
      },
      "source": [
        "#import boto3 to read from S3 Bucket"
      ]
    },
    {
      "cell_type": "code",
      "execution_count": 16,
      "metadata": {
        "colab": {
          "base_uri": "https://localhost:8080/"
        },
        "id": "XTV3P_RuO833",
        "outputId": "957b5cd8-4165-4fff-fb52-7c63e71633ed"
      },
      "outputs": [
        {
          "name": "stdout",
          "output_type": "stream",
          "text": [
            "Looking in indexes: https://pypi.org/simple, https://us-python.pkg.dev/colab-wheels/public/simple/\n",
            "Requirement already satisfied: boto3 in /usr/local/lib/python3.8/dist-packages (1.26.85)\n",
            "Requirement already satisfied: botocore<1.30.0,>=1.29.85 in /usr/local/lib/python3.8/dist-packages (from boto3) (1.29.85)\n",
            "Requirement already satisfied: s3transfer<0.7.0,>=0.6.0 in /usr/local/lib/python3.8/dist-packages (from boto3) (0.6.0)\n",
            "Requirement already satisfied: jmespath<2.0.0,>=0.7.1 in /usr/local/lib/python3.8/dist-packages (from boto3) (1.0.1)\n",
            "Requirement already satisfied: python-dateutil<3.0.0,>=2.1 in /usr/local/lib/python3.8/dist-packages (from botocore<1.30.0,>=1.29.85->boto3) (2.8.2)\n",
            "Requirement already satisfied: urllib3<1.27,>=1.25.4 in /usr/local/lib/python3.8/dist-packages (from botocore<1.30.0,>=1.29.85->boto3) (1.26.14)\n",
            "Requirement already satisfied: six>=1.5 in /usr/local/lib/python3.8/dist-packages (from python-dateutil<3.0.0,>=2.1->botocore<1.30.0,>=1.29.85->boto3) (1.15.0)\n"
          ]
        }
      ],
      "source": [
        "#!pip install boto3\n",
        "import os\n",
        "import logging\n",
        "import boto3\n",
        "from botocore.exceptions import ClientError\n",
        "from KEYS import ACCESS_KEY, SECRET_ACCESS_KEY"
      ]
    },
    {
      "cell_type": "code",
      "execution_count": 17,
      "metadata": {
        "id": "jXAKpl-eO_v7"
      },
      "outputs": [],
      "source": [
        "s3_client = boto3.client(\n",
        "    's3',\n",
        "    aws_access_key_id=ACCESS_KEY,\n",
        "    aws_secret_access_key=SECRET_ACCESS_KEY\n",
        "    )\n",
        "\n",
        "def upload_file(file_name, bucket, object_name=None):\n",
        "    if object_name is None:\n",
        "        object_name = os.path.basename(file_name)\n",
        "\n",
        "    try:\n",
        "        res = s3_client.upload_file(file_name, bucket, object_name)\n",
        "        if res:\n",
        "            print(\"Successfully uploaded file\")\n",
        "    except ClientError as e:\n",
        "        logging.error(e)\n",
        "        return False\n",
        "    return True\n",
        "\n",
        "def download_file(file_name, bucket, object_name):\n",
        "    try:\n",
        "        res = s3_client.download_file(bucket, object_name, file_name)\n",
        "        if res:\n",
        "            print(\"Successfully downloaded file\")\n",
        "    except ClientError as e:\n",
        "        logging.error(e)\n",
        "        return False\n",
        "    return True"
      ]
    },
    {
      "cell_type": "markdown",
      "metadata": {
        "id": "S58nRupiaXJ1"
      },
      "source": [
        "#Downloading File from S3 Bucket"
      ]
    },
    {
      "cell_type": "code",
      "execution_count": 18,
      "metadata": {
        "colab": {
          "base_uri": "https://localhost:8080/"
        },
        "id": "BMayoy2DYx29",
        "outputId": "d9e147ca-df15-4c02-8cf7-1df6d48c72ff"
      },
      "outputs": [
        {
          "data": {
            "text/plain": [
              "True"
            ]
          },
          "execution_count": 18,
          "metadata": {},
          "output_type": "execute_result"
        }
      ],
      "source": [
        "bucket = \"capstone-project-team2\"\n",
        "file1 = \"LOL_items_stats.csv\"\n",
        "file2 = \"lol_champion_stats_en.csv\"\n",
        "download_file(file1, bucket=bucket, object_name=file1)\n",
        "download_file(file2, bucket=bucket, object_name=file2)\n"
      ]
    },
    {
      "cell_type": "markdown",
      "metadata": {
        "id": "2cgAz1O-ahbk"
      },
      "source": [
        "#Reading File from CSV"
      ]
    },
    {
      "cell_type": "code",
      "execution_count": 114,
      "metadata": {
        "id": "ys1AF8cBaysb"
      },
      "outputs": [],
      "source": [
        "df1 = spark.read.csv(file1,encoding='ISO-8859-1', header=True, sep =';')\n",
        "df2 = spark.read.csv(file2,encoding='ISO-8859-1', header=True, sep =';')\n"
      ]
    },
    {
      "cell_type": "markdown",
      "metadata": {
        "id": "X7wNMdhnbSYZ"
      },
      "source": [
        "#Data Cleaning\n"
      ]
    },
    {
      "cell_type": "markdown",
      "metadata": {
        "id": "h55H4RxQ2YbB"
      },
      "source": [
        "#Stats Dataset Cleaning"
      ]
    },
    {
      "cell_type": "code",
      "execution_count": 120,
      "metadata": {
        "colab": {
          "base_uri": "https://localhost:8080/"
        },
        "id": "HMfgfuEKzV7G",
        "outputId": "636844f7-95e2-4269-d3e3-c9285843821c"
      },
      "outputs": [
        {
          "name": "stdout",
          "output_type": "stream",
          "text": [
            "root\n",
            " |-- Item: string (nullable = false)\n",
            " |-- Cost: float (nullable = true)\n",
            " |-- Sell: float (nullable = true)\n",
            " |-- AD: string (nullable = true)\n",
            " |-- AS: float (nullable = true)\n",
            " |-- Crit: float (nullable = true)\n",
            " |-- LS: float (nullable = true)\n",
            " |-- APen: float (nullable = true)\n",
            " |-- AP: float (nullable = true)\n",
            " |-- AH: float (nullable = true)\n",
            " |-- Mana: float (nullable = true)\n",
            " |-- MP5: float (nullable = true)\n",
            " |-- HSP: float (nullable = true)\n",
            " |-- OVamp: float (nullable = true)\n",
            " |-- MPen: float (nullable = true)\n",
            " |-- Health: float (nullable = true)\n",
            " |-- Armor: float (nullable = true)\n",
            " |-- MR: float (nullable = true)\n",
            " |-- HP5: float (nullable = true)\n",
            " |-- MS: float (nullable = true)\n",
            " |-- Maps: string (nullable = false)\n",
            "\n",
            "+--------------------+------+------+----+----+----+----+----+-----+----+-----+----+----+-----+----+------+-----+----+----+----+-------+\n",
            "|                Item|  Cost|  Sell|  AD|  AS|Crit|  LS|APen|   AP|  AH| Mana| MP5| HSP|OVamp|MPen|Health|Armor|  MR| HP5|  MS|   Maps|\n",
            "+--------------------+------+------+----+----+----+----+----+-----+----+-----+----+----+-----+----+------+-----+----+----+----+-------+\n",
            "|        Abyssal Mask|2700.0|1890.0|null|null|null|null|null| null|null| null|null|null| null|null| 400.0| null|60.0|null|null|    All|\n",
            "| Aegis of the Legion|1500.0|1050.0|null|null|null|null|null| null|10.0| null|null|null| null|null|  null| 30.0|30.0|null|null|    All|\n",
            "|         Aether Wisp| 850.0| 595.0|null|null|null|null|null| 30.0|null| null|null|null| null|null|  null| null|null|null|null|    All|\n",
            "|     Amplifying Tome| 435.0| 304.5|null|null|null|null|null| 20.0|null| null|null|null| null|null|  null| null|null|null|null|    All|\n",
            "|   Archangel's Staff|3000.0|2100.0|null|null|null|null|null| 65.0|null|500.0|null|null| null|null|  null| null|null|null|null|    All|\n",
            "|       Ardent Censer|2300.0|1610.0|null|null|null|null|null| 60.0|null| null| 1.0| 0.1| null|null|  null| null|null|null|null|    All|\n",
            "|         B. F. Sword|1300.0| 910.0|  40|null|null|null|null| null|null| null|null|null| null|null|  null| null|null|null|null|    All|\n",
            "|       Bami's Cinder|1100.0| 770.0|null|null|null|null|null| null|null| null|null|null| null|null| 300.0| null|null|null|null|    All|\n",
            "|  Bandleglass Mirror| 950.0| 665.0|null|null|null|null|null| 20.0|10.0| null| 0.5|null| null|null|  null| null|null|null|null|    All|\n",
            "|      Banshee's Veil|2600.0|1820.0|null|null|null|null|null| 80.0|10.0| null|null|null| null|null|  null| null|45.0|null|null|    All|\n",
            "| Berserker's Greaves|1100.0| 770.0|null|0.35|null|null|null| null|null| null|null|null| null|null|  null| null|null|null|45.0|    All|\n",
            "|       Black Cleaver|3100.0|2170.0|  40|null|null|null|null| null|25.0| null|null|null| null|null| 450.0| null|null|null|null|    All|\n",
            "|   Black Mist Scythe| 400.0| 280.0|  20|null|null|null|null| null|null| null| 1.0|null| null|null|  75.0| null|null|null|null|    All|\n",
            "|Blade of the Ruin...|3200.0|2240.0|  40|0.25|null| 0.1|null| null|null| null|null|null| null|null|  null| null|null|null|null|    All|\n",
            "|       Blasting Wand| 850.0| 595.0|null|null|null|null|null| 40.0|null| null|null|null| null|null|  null| null|null|null|null|    All|\n",
            "|     Blighting Jewel|1250.0| 875.0|null|null|null|null|null| 25.0|null| null|null|null| null|0.15|  null| null|null|null|null|    All|\n",
            "|       Bloodthirster|3400.0|2380.0|  55|null| 0.2| 0.2|null| null|null| null|null|null| null|null|  null| null|null|null|null|    All|\n",
            "|           Bloodward|3400.0|2380.0|  70| 0.3| 0.2|0.12|null| null|null| null|null|null| null|null|  null| null|null|null|null|    All|\n",
            "|               Boots| 300.0| 210.0|null|null|null|null|null| null|null| null|null|null| null|null|  null| null|null|null|25.0|    All|\n",
            "|  Boots of Swiftness| 900.0| 630.0|null|null|null|null|null| null|null| null|null|null| null|null|  null| null|null|null|60.0|    All|\n",
            "|        Bramble Vest| 800.0| 560.0|null|null|null|null|null| null|null| null|null|null| null|null|  null| 30.0|null|null|null|    All|\n",
            "|Bulwark of the Mo...| 400.0| 280.0|null|null|null|null|null| 20.0|null| null|null|null| null|null| 250.0| null|null| 1.0|null|    All|\n",
            "|Caulfield's Warha...|1100.0| 770.0|  25|null|null|null|null| null|10.0| null|null|null| null|null|  null| null|null|null|null|    All|\n",
            "|    Ceaseless Hunger|3300.0|2310.0|  60|null|null|null|null| null|25.0| null|null|null| null|null| 550.0| null|null| 2.5|null|    All|\n",
            "|          Chain Vest| 800.0| 560.0|null|null|null|null|null| null|null| null|null|null| null|null|  null| 40.0|null|null|null|    All|\n",
            "| Chempunk Chainsword|2600.0|1820.0|  45|null|null|null|null| null|15.0| null|null|null| null|null| 250.0| null|null|null|null|    All|\n",
            "|  Chemtech Putrifier|2300.0|1610.0|null|null|null|null|null| 55.0|20.0| null| 1.0|null| null|null|  null| null|null|null|null|    All|\n",
            "|    Cloak of Agility| 600.0| 420.0|null|null|0.15|null|null| null|null| null|null|null| null|null|  null| null|null|null|null|    All|\n",
            "|         Cloth Armor| 300.0| 210.0|null|null|null|null|null| null|null| null|null|null| null|null|  null| 15.0|null|null|null|    All|\n",
            "|        Cosmic Drive|3000.0|2100.0|null|null|null|null|null| 80.0|20.0| null|null|null| null|null| 200.0| null|null|null|null|    All|\n",
            "|  Crystalline Bracer| 650.0| 455.0|null|null|null|null|null| null|null| null|null|null| null|null| 200.0| null|null| 0.5|null|    All|\n",
            "|                Cull| 450.0| 315.0|   7|null|null|null|null| null|null| null|null|null| null|null|  null| null|null|null|null|    All|\n",
            "|              Dagger| 300.0| 210.0|null|0.12|null|null|null| null|null| null|null|null| null|null|  null| null|null|null|null|    All|\n",
            "|           Dark Seal| 350.0| 245.0|null|null|null|null|null| 15.0|null| null|null|null| null|null|  40.0| null|null|null|null|    All|\n",
            "|    Dead Man's Plate|2900.0|2030.0|null|null|null|null|null| null|null| null|null|null| null|null| 300.0| 45.0|null|null|null|    All|\n",
            "|       Death's Dance|3100.0|2170.0|  55|null|null|null|null| null|15.0| null|null|null| null|null|  null| 45.0|null|null|null|    All|\n",
            "|             Deicide|3300.0|2310.0|  55|null|null|null|null| null|25.0| null|null|null| null|null| 550.0| null|null|null|null|    All|\n",
            "|     Demonic Embrace|3000.0|2100.0|null|null|null|null|null| 70.0|null| null|null|null| null|null| 350.0| null|null|null|null|    All|\n",
            "|     Divine Sunderer|3300.0|2310.0|  40|null|null|null|null| null|20.0| null|null|null| null|null| 400.0| null|null|null|null|    All|\n",
            "|       Doran's Blade| 450.0| 315.0|   8|null|null|null|null| null|null| null|null|null| null|null|  80.0| null|null|null|null|    All|\n",
            "|        Doran's Ring| 400.0| 280.0|null|null|null|null|null| 15.0|null| null|null|null| null|null|  70.0| null|null|null|null|    All|\n",
            "|      Doran's Shield| 450.0| 315.0|null|null|null|null|null| null|null| null|null|null| null|null|  80.0| null|null|null|null|    All|\n",
            "|Draktharr's Shado...|3200.0|2240.0|  75|null|null|null|null| null|25.0| null|null|null| null|null|  null| null|null|null|null|    All|\n",
            "|        Dreamshatter|3300.0|2310.0|  55| 0.3|null|null|null| null|25.0| null|null|null| null|null| 400.0| null|null|null|null|    All|\n",
            "|Duskblade of Drak...|3200.0|2240.0|  60|null|null|null|null| null|20.0| null|null|null| null|null|  null| null|null|null|null|    All|\n",
            "|             Eclipse|3200.0|2240.0|  55|null|null|null|null| null|null| null|null|null| 0.08|null|  null| null|null|null|null|    All|\n",
            "|       Edge of Night|2900.0|2030.0|  50|null|null|null|null| null|null| null|null|null| null|null| 325.0| null|null|null|null|    All|\n",
            "|      Essence Reaver|2800.0|1960.0|  45|null| 0.2|null|null| null|20.0| null|null|null| null|null|  null| null|null|null|null|    All|\n",
            "|      Eternal Winter|3400.0|2380.0|null|null|null|null|null|100.0|25.0|800.0|null|null| null|null| 350.0| null|null|null|null|    All|\n",
            "|           Everfrost|3200.0|2240.0|null|null|null|null|null| 80.0|20.0|600.0|null|null| null|null| 250.0| null|null|null|null|    All|\n",
            "|Executioner's Cal...| 800.0| 560.0|  15|null|null|null|null| null|null| null|null|null| null|null|  null| null|null|null|null|    All|\n",
            "|        Eye of Luden|3400.0|2380.0|null|null|null|null|null|100.0|25.0|800.0|null|null| null|10.0|  null| null|null|null|null|    All|\n",
            "|        Faerie Charm| 250.0| 175.0|null|null|null|null|null| null|null| null| 0.5|null| null|null|  null| null|null|null|null|    All|\n",
            "|      Fiendish Codex| 900.0| 630.0|null|null|null|null|null| 35.0|10.0| null|null|null| null|null|  null| null|null|null|null|    All|\n",
            "|      Forbidden Idol| 800.0| 560.0|null|null|null|null|null| null|null| null| 0.5|null| null|null|  null| null|null|null|null|    All|\n",
            "|     Force of Nature|2900.0|2030.0|null|null|null|null|null| null|null| null|null|null| null|null| 350.0| null|60.0|null|null|    All|\n",
            "|     Forgefire Crest|3200.0|2240.0|null|null|null|null|null| null|25.0| null|null|null| null|null| 500.0| 45.0|45.0|null|null|    All|\n",
            "|           Frostfang| 400.0| 280.0|null|null|null|null|null| 15.0|null| null|0.75|null| null|null|  70.0| null|null|null|null|    All|\n",
            "|  Frostfire Gauntlet|2800.0|1960.0|null|null|null|null|null| null|20.0| null|null|null| null|null| 350.0| 25.0|25.0|null|null|    All|\n",
            "|        Frozen Heart|2500.0|1750.0|null|null|null|null|null| null|20.0|400.0|null|null| null|null|  null| 80.0|null|null|null|    All|\n",
            "|           Galeforce|3400.0|2380.0|  60| 0.2| 0.2|null|null| null|null| null|null|null| null|null|  null| null|null|null|null|    All|\n",
            "| Gargoyle Stoneplate|3300.0|2310.0|null|null|null|null|null| null|15.0| null|null|null| null|null|  null| 60.0|60.0|null|null|    All|\n",
            "|        Giant's Belt| 900.0| 630.0|null|null|null|null|null| null|null| null|null|null| null|null| 350.0| null|null|null|null|    All|\n",
            "|     Glacial Buckler| 900.0| 630.0|null|null|null|null|null| null|10.0|250.0|null|null| null|null|  null| 20.0|null|null|null|    All|\n",
            "|         Goredrinker|3300.0|2310.0|  45|null|null|null|null| null|20.0| null|null|null| null|null| 400.0| null|null| 1.5|null|    All|\n",
            "|      Guardian Angel|2800.0|1960.0|  40|null|null|null|null| null|null| null|null|null| null|null|  null| 40.0|null|null|null|    All|\n",
            "|    Guardian's Blade| 950.0| 665.0|  30|null|null|null|null| null|15.0| null|null|null| null|null| 150.0| null|null|null|null|      H|\n",
            "|   Guardian's Hammer| 950.0| 665.0|  25|null|null| 0.1|null| null|null| null|null|null| null|null| 150.0| null|null|null|null|      H|\n",
            "|     Guardian's Horn| 950.0| 665.0|null|null|null|null|null| null|null| null|null|null| null|null| 150.0| null|null|20.0|null|      H|\n",
            "|      Guardian's Orb| 950.0| 665.0|null|null|null|null|null| 40.0|null| null|null|null| null|null| 150.0| null|null|null|null|      H|\n",
            "| Guinsoo's Rageblade|2600.0|1820.0|null|0.45| 0.2|null|null| null|null| null|null|null| null|null|  null| null|null|null|null|    All|\n",
            "|  Harrowing Crescent| 400.0| 280.0|  10|null|null|null|null| null|null| null| 0.5|null| null|null|  60.0| null|null|null|null|    All|\n",
            "|     Hearthbound Axe|1100.0| 770.0|  15|0.15|null|null|null| null|null| null|null|null| null|null|  null| null|null|null|null|    All|\n",
            "|          Hexdrinker|1300.0| 910.0|  20|null|null|null|null| null|null| null|null|null| null|null|  null| null|35.0|null|null|    All|\n",
            "|  Hextech Alternator|1050.0| 735.0|null|null|null|null|null| 40.0|null| null|null|null| null|null|  null| null|null|null|null|    All|\n",
            "|  Hextech Rocketbelt|3200.0|2240.0|null|null|null|null|null| 90.0|15.0| null|null|null| null| 6.0| 250.0| null|null|null|null|    All|\n",
            "|       Horizon Focus|3000.0|2100.0|null|null|null|null|null|115.0|null| null|null|null| null|null|  null| null|null|null|null|    All|\n",
            "|     Icathia's Curse|3200.0|2240.0|null|null|null|null|null|100.0|20.0| null|null|null|  0.1|null| 450.0| null|null|null|null|    All|\n",
            "|  Immortal Shieldbow|3400.0|2380.0|  55| 0.2| 0.2| 0.1|null| null|null| null|null|null| null|null|  null| null|null|null|null|    All|\n",
            "|    Imperial Mandate|2500.0|1750.0|null|null|null|null|null| 40.0|20.0| null| 1.0|null| null|null| 200.0| null|null|null|null|    All|\n",
            "|       Infinity Edge|3400.0|2380.0|  70|null| 0.2|null|null| null|null| null|null|null| null|null|  null| null|null|null|null|    All|\n",
            "|      Infinity Force|3333.0|2333.1|  40| 0.4|null|null|null| null|25.0| null|null|null| null|null| 300.0| null|null|null|null|    All|\n",
            "|Ionian Boots of L...| 950.0| 665.0|null|null|null|null|null| null|20.0| null|null|null| null|null|  null| null|null|null|45.0|    All|\n",
            "|      Ironspike Whip|1100.0| 770.0|  30|null|null|null|null| null|null| null|null|null| null|null|  null| null|null|null|null|    All|\n",
            "|           Kindlegem| 800.0| 560.0|null|null|null|null|null| null|10.0| null|null|null| null|null| 200.0| null|null|null|null|    All|\n",
            "|      Kircheis Shard| 700.0| 490.0|null|0.15|null|null|null| null|null| null|null|null| null|null|  null| null|null|null|null|    All|\n",
            "|        Knight's Vow|2300.0|1610.0|null|null|null|null|null| null|10.0| null|null|null| null|null| 400.0| null|null| 3.0|null|    All|\n",
            "|       Kraken Slayer|3400.0|2380.0|  65|0.25| 0.2|null|null| null|null| null|null|null| null|null|  null| null|null|null|null|    All|\n",
            "|        Last Whisper|1450.0|1015.0|  20|null|null|null| 0.2| null|null| null|null|null| null|null|  null| null|null|null|null|    All|\n",
            "|       Leeching Leer|1300.0| 910.0|null|null|null|null|null| 20.0|null| null|null|null| 0.05|null| 250.0| null|null|null|null|    All|\n",
            "|   Liandry's Anguish|3200.0|2240.0|null|null|null|null|null| 80.0|20.0|600.0|null|null| null|null|  null| null|null|null|null|    All|\n",
            "|    Liandry's Lament|3200.0|2240.0|null|null|null|null|null|110.0|25.0|800.0|null|null| null|null|  null| null|null|null|null|    All|\n",
            "|           Lich Bane|3000.0|2100.0|null|null|null|null|null| 75.0|null| null|null|null| null|null|  null| null|null|null|null|    All|\n",
            "|Locket of the Iro...|2500.0|1750.0|null|null|null|null|null| null|20.0| null|null|null| null|null| 200.0| 30.0|30.0|null|null|    All|\n",
            "|          Long Sword| 350.0| 245.0|  10|null|null|null|null| null|null| null|null|null| null|null|  null| null|null|null|null|    All|\n",
            "|Lord Dominik's Re...|3000.0|2100.0|  30|null| 0.2|null|0.35| null|null| null|null|null| null|null|  null| null|null|null|null|    All|\n",
            "|        Lost Chapter|1300.0| 910.0|null|null|null|null|null| 40.0|10.0|300.0|null|null| null|null|  null| null|null|null|null|    All|\n",
            "|     Luden's Tempest|3200.0|2240.0|null|null|null|null|null| 80.0|20.0|600.0|null|null| null| 6.0|  null| null|null|null|null|    All|\n",
            "|            Manamune|2900.0|2030.0|  35|null|null|null|null| null|15.0|500.0|null|null| null|null|  null| null|null|null|null|    All|\n",
            "|   Maw of Malmortius|2800.0|1960.0|  50|null|null|null|null| null|15.0| null|null|null| null|null|  null| null|50.0|null|null|    All|\n",
            "| Mejai's Soulstealer|1600.0|1120.0|null|null|null|null|null| 20.0|null| null|null|null| null|null| 100.0| null|null|null|null|    All|\n",
            "|  Mercurial Scimitar|3000.0|2100.0|  40|null| 0.2|null|null| null|null| null|null|null| null|null|  null| null|30.0|null|null|    All|\n",
            "|    Mercury's Treads|1100.0| 770.0|null|null|null|null|null| null|null| null|null|null| null|null|  null| null|25.0|null|45.0|    All|\n",
            "|   Mikael's Blessing|2300.0|1610.0|null|null|null|null|null| null|15.0| null| 1.0| 0.2| null|null|  null| null|50.0|null|null|    All|\n",
            "|   Moonstone Renewer|2500.0|1750.0|null|null|null|null|null| 40.0|20.0| null| 1.0|null| null|null| 200.0| null|null|null|null|    All|\n",
            "|      Morellonomicon|2500.0|1750.0|null|null|null|null|null| 80.0|null| null|null|null| null|null| 250.0| null|null|null|null|    All|\n",
            "|     Mortal Reminder|2500.0|1750.0|  25|0.25| 0.2|null|null| null|null| null|null|null| null|null|  null| null|null|null|null|    All|\n",
            "|            Muramana|2900.0|2030.0|  35|null|null|null|null| null|15.0|860.0|null|null| null|null|  null| null|null|null|null|    All|\n",
            "|      Nashor's Tooth|3000.0|2100.0|null| 0.5|null|null|null|100.0|null| null|null|null| null|null|  null| null|null|null|null|    All|\n",
            "|  Navori Quickblades|3400.0|2380.0|  60|null| 0.2|null|null| null|30.0| null|null|null| null|null|  null| null|null|null|null|    All|\n",
            "|Needlessly Large Rod|1250.0| 875.0|null|null|null|null|null| 60.0|null| null|null|null| null|null|  null| null|null|null|null|    All|\n",
            "|      Negatron Cloak| 900.0| 630.0|null|null|null|null|null| null|null| null|null|null| null|null|  null| null|50.0|null|null|    All|\n",
            "|     Night Harvester|3200.0|2240.0|null|null|null|null|null| 90.0|15.0| null|null|null| null|null| 300.0| null|null|null|null|    All|\n",
            "|          Noonquiver|1300.0| 910.0|  30|0.15|null|null|null| null|null| null|null|null| null|null|  null| null|null|null|null|    All|\n",
            "|   Null-Magic Mantle| 450.0| 315.0|null|null|null|null|null| null|null| null|null|null| null|null|  null| null|25.0|null|null|    All|\n",
            "|        Oblivion Orb| 800.0| 560.0|null|null|null|null|null| 30.0|null| null|null|null| null|null|  null| null|null|null|null|    All|\n",
            "|Pauldrons of Whit...| 400.0| 280.0|  15|null|null|null|null| null|null| null|null|null| null|null| 250.0| null|null| 1.0|null|    All|\n",
            "|               Phage|1100.0| 770.0|  15|null|null|null|null| null|null| null|null|null| null|null| 200.0| null|null|null|null|    All|\n",
            "|      Phantom Dancer|2600.0|1820.0|  20|0.25| 0.2|null|null| null|null| null|null|null| null|null|  null| null|null|null|null|    All|\n",
            "|             Pickaxe| 875.0| 612.5|  25|null|null|null|null| null|null| null|null|null| null|null|  null| null|null|null|null|    All|\n",
            "|    Plated Steelcaps|1100.0| 770.0|null|null|null|null|null| null|null| null|null|null| null|null|  null| 20.0|null|null|45.0|    All|\n",
            "|      Prowler's Claw|3200.0|2240.0|  60|null|null|null|null| null|20.0| null|null|null| null|null|  null| null|null|null|null|    All|\n",
            "|    Quicksilver Sash|1300.0| 910.0|null|null|null|null|null| null|null| null|null|null| null|null|  null| null|30.0|null|null|    All|\n",
            "|  Rabadon's Deathcap|3600.0|2520.0|null|null|null|null|null|120.0|null| null|null|null| null|null|  null| null|null|null|null|    All|\n",
            "|           Rageknife| 800.0| 560.0|null|0.25|null|null|null| null|null| null|null|null| null|null|  null| null|null|null|null|    All|\n",
            "|      Randuin's Omen|2700.0|1890.0|null|null|null|null|null| null|10.0| null|null|null| null|null| 250.0| 80.0|null|null|null|    All|\n",
            "|    Rapid Firecannon|2500.0|1750.0|null|0.35| 0.2|null|null| null|null| null|null|null| null|null|  null| null|null|null|null|    All|\n",
            "|      Ravenous Hydra|3300.0|2310.0|  65|null|null|null|null| null|20.0| null|null|null|  0.1|null|  null| null|null|null|null|    All|\n",
            "|         Recurve Bow|1000.0| 700.0|null|0.25|null|null|null| null|null| null|null|null| null|null|  null| null|null|null|null|    All|\n",
            "|          Redemption|2300.0|1610.0|null|null|null|null|null| null|15.0| null| 1.0| 0.2| null|null| 200.0| null|null|null|null|    All|\n",
            "|   Rejuvenation Bead| 150.0| 105.0|null|null|null|null|null| null|null| null|null|null| null|null|  null| null|null| 0.5|null|    All|\n",
            "|        Relic Shield| 400.0| 280.0|null|null|null|null|null|  5.0|null| null|null|null| null|null|  30.0| null|null|0.25|null|    All|\n",
            "|Reliquary of the ...|2500.0|1750.0|null|null|null|null|null| null|25.0| null|null|null| null|null| 400.0| 40.0|40.0|null|null|    All|\n",
            "|           Riftmaker|3200.0|2240.0|null|null|null|null|null| 80.0|15.0| null|null|null| 0.08|null| 300.0| null|null|null|null|    All|\n",
            "|    Rimeforged Grasp|2800.0|1960.0|null|null|null|null|null| null|25.0| null|null|null| null|null| 500.0| 40.0|40.0|null|null|    All|\n",
            "|        Ruby Crystal| 400.0| 280.0|null|null|null|null|null| null|null| null|null|null| null|null| 150.0| null|null|null|null|    All|\n",
            "|  Runaan's Hurricane|2600.0|1820.0|null|0.45| 0.2|null|null| null|null| null|null|null| null|null|  null| null|null|null|null|    All|\n",
            "| Runesteel Spaulders| 400.0| 280.0|   6|null|null|null|null| null|null| null|null|null| null|null| 100.0| null|null| 0.5|null|    All|\n",
            "|Rylai's Crystal S...|3000.0|2100.0|null|null|null|null|null| 90.0|null| null|null|null| null|null| 350.0| null|null|null|null|    All|\n",
            "|   Sandshrike's Claw|3200.0|2240.0|  75|null|null|null|null| null|25.0| null|null|null| null|null|  null| null|null|null|null|    All|\n",
            "|      Sanguine Blade|3000.0|2100.0|  50|null|null|null|null| null|null| null|null|null| null|null|  null| null|null|null|null|    All|\n",
            "|    Sapphire Crystal| 350.0| 245.0|null|null|null|null|null| null|null|250.0|null|null| null|null|  null| null|null|null|null|    All|\n",
            "|     Seat of Command|2500.0|1750.0|null|null|null|null|null| 70.0|25.0| null| 2.0|null| null|null| 300.0| null|null|null|null|    All|\n",
            "|   Seeker's Armguard|1000.0| 700.0|null|null|null|null|null| 20.0|null| null|null|null| null|null|  null| 15.0|null|null|null|    All|\n",
            "|    Seraph's Embrace|3000.0|2100.0|null|null|null|null|null| 65.0|null|860.0|null|null| null|null|  null| null|null|null|null|    All|\n",
            "|      Serpent's Fang|2600.0|1820.0|  55|null|null|null|null| null|null| null|null|null| null|null|  null| null|null|null|null|    All|\n",
            "|       Serrated Dirk|1100.0| 770.0|  30|null|null|null|null| null|null| null|null|null| null|null|  null| null|null|null|null|    All|\n",
            "|    Serylda's Grudge|3200.0|2240.0|  45|null|null|null| 0.3| null|20.0| null|null|null| null|null|  null| null|null|null|null|    All|\n",
            "|   Shard of True Ice| 400.0| 280.0|null|null|null|null|null| 40.0|null| null| 1.0|null| null|null|  75.0| null|null|null|null|    All|\n",
            "|Shurelya's Battle...|2500.0|1750.0|null|null|null|null|null| 40.0|20.0| null| 1.0|null| null|null| 200.0| null|null|null|null|    All|\n",
            "|  Shurelya's Requiem|2500.0|1750.0|null|null|null|null|null| 70.0|25.0| null| 2.0|null| null|null| 300.0| null|null|null|null|    All|\n",
            "|     Silvermere Dawn|3000.0|2100.0|  40|null|null|null|null| null|null| null|null|null| null|null| 300.0| null|35.0|null|null|    All|\n",
            "|    Sorcerer's Shoes|1100.0| 770.0|null|null|null|null|null| null|null| null|null|null| null|18.0|  null| null|null|null|45.0|    All|\n",
            "|     Spectral Sickle| 400.0| 280.0|   5|null|null|null|null| null|null| null|0.25|null| null|null|  10.0| null|null|null|null|    All|\n",
            "|      Spectre's Cowl|1250.0| 875.0|null|null|null|null|null| null|null| null|null|null| null|null| 250.0| null|25.0|null|null|    All|\n",
            "|   Spellthief's Edge| 400.0| 280.0|null|null|null|null|null|  8.0|null| null| 0.5|null| null|null|  10.0| null|null|null|null|    All|\n",
            "|       Spirit Visage|2900.0|2030.0|null|null|null|null|null| null|10.0| null|null|null| null|null| 450.0| null|40.0| 1.0|null|    All|\n",
            "|Staff of Flowing ...|2300.0|1610.0|null|null|null|null|null| 50.0|null| null| 1.0| 0.1| null|null|  null| null|null|null|null|    All|\n",
            "|          Starcaster|2500.0|1750.0|null|null|null|null|null| 70.0|25.0| null| 2.0|null| null|null| 300.0| null|null|null|null|    All|\n",
            "|Steel Shoulderguards| 400.0| 280.0|   3|null|null|null|null| null|null| null|null|null| null|null|  30.0| null|null|0.25|null|    All|\n",
            "|       Sterak's Gage|3100.0|2170.0|  50|null|null|null|null| null|null| null|null|null| null|null| 400.0| null|null|null|null|    All|\n",
            "|          Stormrazor|2700.0|1890.0|  40|0.15| 0.2|null|null| null|null| null|null|null| null|null|  null| null|null|null|null|    All|\n",
            "|       Stridebreaker|3300.0|2310.0|  45| 0.2|null|null|null| null|20.0| null|null|null| null|null| 300.0| null|null|null|null|    All|\n",
            "|       Sunfire Aegis|3200.0|2240.0|null|null|null|null|null| null|20.0| null|null|null| null|null| 350.0| 30.0|30.0|null|null|    All|\n",
            "|              Syzygy|3200.0|2240.0|  75|null|null|null|null| null|null| null|null|null|  0.1|null|  null| null|null|null|null|    All|\n",
            "|    Targon's Buckler| 400.0| 280.0|null|null|null|null|null| 10.0|null| null|null|null| null|null| 100.0| null|null| 0.5|null|    All|\n",
            "| Tear of the Goddess| 400.0| 280.0|null|null|null|null|null| null|null|240.0|null|null| null|null|  null| null|null|null|null|    All|\n",
            "|       The Collector|3000.0|2100.0|  55|null| 0.2|null|null| null|null| null|null|null| null|null|  null| null|null|null|null|    All|\n",
            "|           Thornmail|2700.0|1890.0|null|null|null|null|null| null|null| null|null|null| null|null| 350.0| 60.0|null|null|null|    All|\n",
            "|              Tiamat|1200.0| 840.0|  25|null|null|null|null| null|null| null|null|null| null|null|  null| null|null|null|null|    All|\n",
            "|       Titanic Hydra|3300.0|2310.0|  30|null|null|null|null| null|null| null|null|null| null|null| 500.0| null|null|null|null|    All|\n",
            "|       Trinity Force|3333.0|2333.1|  35| 0.3|null|null|null| null|20.0| null|null|null| null|null| 200.0| null|null|null|null|    All|\n",
            "|      Turbo Chemtank|2800.0|1960.0|null|null|null|null|null| null|20.0| null|null|null| null|null| 350.0| 25.0|25.0|null|null|    All|\n",
            "|Turbocharged Hexp...|2800.0|1960.0|null|null|null|null|null| null|25.0| null|null|null| null|null| 500.0| 40.0|40.0|null|null|    All|\n",
            "|             Typhoon|3400.0|2380.0|  80|0.35| 0.2|null|null| null|null| null|null|null| null|null|  null| null|null|null|null|    All|\n",
            "|       Umbral Glaive|2600.0|1820.0|  50|null|null|null|null| null|15.0| null|null|null| null|null|  null| null|null|null|null|    All|\n",
            "|   Upgraded Aeropack|3200.0|2240.0|null|null|null|null|null|120.0|20.0| null|null|null| null|10.0| 350.0| null|null|null|null|    All|\n",
            "|    Vampiric Scepter| 900.0| 630.0|  15|null|null| 0.1|null| null|null| null|null|null| null|null|  null| null|null|null|null|    All|\n",
            "|     Verdant Barrier|1000.0| 700.0|null|null|null|null|null| 20.0|null| null|null|null| null|null|  null| null|25.0|null|null|    All|\n",
            "|          Vespertide|3200.0|2240.0|null|null|null|null|null|120.0|20.0| null|null|null| null|null| 400.0| null|null|null|null|    All|\n",
            "|  Vigilant Wardstone|2300.0|1610.0|null|null|null|null|null| null|15.0| null|null|null| null|null| 150.0| null|null|null|null|    All|\n",
            "|          Void Staff|2700.0|1890.0|null|null|null|null|null| 70.0|null| null|null|null| null| 0.4|  null| null|null|null|null|    All|\n",
            "|       Warden's Mail|1000.0| 700.0|null|null|null|null|null| null|null| null|null|null| null|null|  null| 40.0|null|null|null|    All|\n",
            "|      Warmog's Armor|3000.0|2100.0|null|null|null|null|null| null|10.0| null|null|null| null|null| 800.0| null|null| 2.0|null|    All|\n",
            "|  Watchful Wardstone|1100.0| 770.0|null|null|null|null|null| null|25.0| null|null|null| null|null|  null| null|null|null|null|    All|\n",
            "|    Winged Moonplate| 800.0| 560.0|null|null|null|null|null| null|null| null|null|null| null|null| 150.0| null|null|null|null|    All|\n",
            "|           Wit's End|3100.0|2170.0|  40| 0.4|null|null|null| null|null| null|null|null| null|null|  null| null|50.0|null|null|    All|\n",
            "|Wyrmfallen Sacrifice|3400.0|2380.0|  85| 0.4| 0.2|null|null| null|null| null|null|null| null|null|  null| null|null|null|null|    All|\n",
            "| Youmuu's Ghostblade|3000.0|2100.0|  60|null|null|null|null| null|null| null|null|null| null|null|  null| null|null|null|null|    All|\n",
            "|                Zeal|1050.0| 735.0|null|0.18|0.15|null|null| null|null| null|null|null| null|null|  null| null|null|null|null|    All|\n",
            "|  Zeke's Convergence|2400.0|1680.0|null|null|null|null|null| null|20.0|250.0|null|null| null|null| 250.0| 25.0|null|null|null|    All|\n",
            "|  Zhonya's Hourglass|2600.0|1820.0|null|null|null|null|null| 65.0|10.0| null|null|null| null|null|  null| 45.0|null|null|null|    All|\n",
            "|   Anathema's Chains|2500.0|1750.0|null|null|null|null|null| null|20.0| null|null|null| null|null| 650.0| null|null|null|null|    All|\n",
            "|         Hullbreaker|2800.0|1960.0|  50|null|null|null|null| null|null| null|null|null| null|null| 300.0| null|null|1.25|null|Unknown|\n",
            "+--------------------+------+------+----+----+----+----+----+-----+----+-----+----+----+-----+----+------+-----+----+----+----+-------+\n",
            "\n"
          ]
        }
      ],
      "source": [
        "#changing the data types to float\n",
        "from pyspark.sql.functions import *\n",
        "cols = [\"Cost\",\"Sell\", 'AS', 'Crit', 'LS', 'APen', 'AP','AH', 'Mana','MP5','HSP','OVamp', 'MPen', 'Health', 'Armor',\"MR\",\"HP5\",\"MS\"]\n",
        "for col_name in cols:\n",
        "    df1 = df1.withColumn(col_name, col(col_name).cast('float'))\n",
        "\n",
        "#Making Item column primary key(nullable=false)\n",
        "df1 = df1.withColumn(\"Item\", F.coalesce(F.col(\"Item\"), F.lit(0)))\n",
        "\n",
        "#replacing null value to unknown for Maps Column\n",
        "df1 = df1.na.fill(value=\"Unknown\", subset=[\"Maps\"])\n",
        "\n",
        "# Displaying table\n",
        "df1.printSchema()\n",
        "df1.show(200)"
      ]
    },
    {
      "cell_type": "code",
      "execution_count": 120,
      "metadata": {
        "id": "hxA-MI7_Eb-s"
      },
      "outputs": [],
      "source": []
    },
    {
      "cell_type": "code",
      "execution_count": 121,
      "metadata": {
        "colab": {
          "base_uri": "https://localhost:8080/"
        },
        "id": "PePPnxVsvbdM",
        "outputId": "b69357a2-9a0f-4208-8ab5-32fc3ed7fe7b"
      },
      "outputs": [
        {
          "name": "stdout",
          "output_type": "stream",
          "text": [
            "+-------------+--------------------+------------+----------+------------+-----------+------------------+--------+----------+-----+-----+--------+----+----+---------+-----+----+--------+-----+----+---------+----+----+--------+-----+------+----------+----+----+--------+----+----+--------+-----+--------+-----+-----------+\n",
            "|champion_name|      champion_title|       class| playstyle|date_release|last_change|blue_essence_price|rp_price| ressource|   HP|  HP+|HP_lvl18| HP5|HP5+|HP5_lvl18|   MP| MP+|MP_lvl18|  MP5|MP5+|MP5_lvl18|  AD| AD+|AD_lvl18|   AS|   AS+|  AS_lvl18|  AR| AR+|AR_lvl18|  MR| MR+|MR_lvl18|   MS|MS_lvl18|range|range_lvl18|\n",
            "+-------------+--------------------+------------+----------+------------+-----------+------------------+--------+----------+-----+-----+--------+----+----+---------+-----+----+--------+-----+----+---------+----+----+--------+-----+------+----------+----+----+--------+----+----+--------+-----+--------+-----+-----------+\n",
            "|       Aatrox|    the Darkin Blade|     Fighter|Juggernaut|  2013-06-13|      V12.4|              4800|     880|Blood Well|580.0| 90.0|  2110.0| 3.0| 1.0|     20.0|  0.0| 0.0|     0.0|  0.0| 0.0|      0.0|60.0| 5.0|   145.0|0.651|  2.5%|  0.927675|38.0|3.25|   93.25|32.0|1.25|   53.25|345.0|   345.0|175.0|      175.0|\n",
            "|         Ahri| the Nine-Tailed Fox|        Mage|     Burst|  2011-12-14|      V12.5|              3150|     790|      Mana|500.0| 82.0|  1894.0| 2.5| 0.6|     12.7|418.0|25.0|   843.0|  8.0| 0.8|     21.6|53.0| 3.0|   104.0|0.668|    2%|   0.89512|18.0| 3.5|    77.5|30.0| 0.5|    38.5|330.0|   330.0|550.0|      550.0|\n",
            "|        Akali|  the Rogue Assassin|      Slayer|  Assassin|  2010-05-11|     V11.22|              3150|     790|    Energy|500.0|105.0|  2285.0| 9.0| 0.9|     24.3|200.0| 0.0|   200.0| 50.0| 0.0|     50.0|62.0| 3.3|   118.1|0.625|  3.2%|     0.965|23.0| 3.5|    82.5|37.0|1.25|   58.25|345.0|   345.0|125.0|      125.0|\n",
            "|       Akshan|  the Rogue Sentinel|    Marksman|  Assassin|  2021-07-22|      V12.3|              6300|     975|      Mana|560.0| 90.0|  2090.0|3.75|0.65|     14.8|350.0|40.0|  1030.0|8.175| 0.7|   20.075|52.0| 3.5|   111.5|0.638|    4%|   1.07184|26.0| 3.0|    77.0|30.0| 0.5|    38.5|330.0|   330.0|500.0|      500.0|\n",
            "|      Alistar|        the Minotaur|        Tank|  Vanguard|  2009-02-21|     V11.11|              1350|     585|      Mana|600.0|106.0|  2402.0| 8.5|0.85|    22.95|350.0|40.0|  1030.0|  8.5| 0.8|     22.1|62.0|3.75|  125.75|0.625|2.125%|0.85078126|44.0| 3.5|   103.5|32.0|1.25|   53.25|330.0|   330.0|125.0|      125.0|\n",
            "|        Amumu|       the Sad Mummy|        Tank|  Vanguard|  2009-06-26|      V12.4|               450|     260|      Mana|615.0| 75.0|  1890.0| 9.0|0.85|    23.45|285.0|40.0|   965.0| 7.38|0.53|    16.39|53.0| 3.8|   117.6|0.736| 2.18%| 1.0087616|30.0| 3.0|    81.0|32.0|1.25|   53.25|335.0|   335.0|125.0|      125.0|\n",
            "|       Anivia|     the Cryophoenix|        Mage|Battlemage|  2009-07-10|     V11.20|              3150|     790|      Mana|480.0| 82.0|  1874.0| 5.5|0.55|    14.85|495.0|45.0|  1260.0|  8.0| 0.8|     21.6|51.0| 3.2|   105.4|0.625| 1.68%|    0.8035|21.0| 4.0|    89.0|30.0| 0.5|    38.5|325.0|   325.0|600.0|      600.0|\n",
            "|        Annie|      the Dark Child|        Mage|     Burst|  2009-02-21|     V11.15|               450|     260|      Mana|524.0| 88.0|  2020.0| 5.5|0.55|    14.85|418.0|25.0|   843.0|  8.0| 0.8|     21.6|50.0|2.63|   94.71|0.579| 1.36%| 0.7128648|19.0| 4.0|    87.0|30.0| 0.5|    38.5|335.0|   335.0|625.0|      625.0|\n",
            "|     Aphelios|the Weapon of the...|    Marksman|  Marksman|  2019-12-11|      V12.5|              6300|     975|      Mana|510.0| 88.0|  2006.0|3.25|0.55|     12.6|348.0|42.0|  1062.0|  6.5| 0.4|     13.3|55.0| 3.0|   106.0| 0.64|  2.1%|   0.86848|26.0| 3.0|    77.0|30.0| 0.5|    38.5|325.0|   325.0|550.0|      550.0|\n",
            "|         Ashe|    the Frost Archer|    Marksman|  Marksman|  2009-02-21|      V12.5|               450|     260|      Mana|570.0| 87.0|  2049.0| 3.5|0.55|    12.85|280.0|32.0|   824.0| 6.97| 0.4|    13.77|59.0|2.96|  109.32|0.658| 3.33%| 1.0304939|26.0| 3.4|    83.8|30.0| 0.5|    38.5|325.0|   325.0|600.0|      600.0|\n",
            "| Aurelion Sol|     The Star Forger|        Mage|Battlemage|  2016-03-24|     V11.21|              6300|     975|      Mana|575.0| 92.0|  2139.0| 7.0| 0.6|     17.2|350.0|50.0|  1200.0|  6.0| 0.8|     19.6|57.0| 3.2|   111.4|0.625| 1.36%|    0.7695|19.0| 3.6|    80.2|30.0| 0.5|    38.5|325.0|   325.0|550.0|      550.0|\n",
            "|         Azir|the Emperor of th...|  Specialist|Specialist|  2014-09-16|     V11.22|              4800|     880|      Mana|552.0| 92.0|  2116.0| 7.0|0.75|    19.75|480.0|21.0|   837.0|  8.0| 0.8|     21.6|52.0| 2.8|    99.6|0.625|    3%|   0.94375|19.0| 3.0|    70.0|30.0| 0.5|    38.5|335.0|   335.0|525.0|      525.0|\n",
            "|         Bard|the Wandering Car...|Controllerer|   Catcher|  2015-03-12|      V12.1|              4800|     880|      Mana|560.0| 89.0|  2073.0| 5.5|0.55|    14.85|350.0|50.0|  1200.0|  6.0|0.45|    13.65|52.0| 3.0|   103.0|0.625|    2%|    0.8375|34.0| 4.0|   102.0|30.0| 0.5|    38.5|330.0|   330.0|500.0|      500.0|\n",
            "|   Blitzcrank|the Great Steam G...|Controllerer|   Catcher|  2009-09-02|      V12.4|              3150|     790|      Mana|583.0| 95.0|  2198.0| 7.5|0.75|    20.25|267.0|40.0|   947.0|  8.5| 0.8|     22.1|62.0| 3.5|   121.5|0.625| 1.13%| 0.7450625|40.0| 3.5|    99.5|32.0|1.25|   53.25|325.0|   325.0|125.0|      125.0|\n",
            "|        Brand|the Burning Venge...|        Mage|     Burst|  2011-04-12|      V12.3|              4800|     880|      Mana|520.0| 88.0|  2016.0| 5.5|0.55|    14.85|469.0|21.0|   826.0|10.67| 0.6|    20.87|57.0| 3.0|   108.0|0.625| 1.36%|    0.7695|22.0| 3.5|    81.5|30.0| 0.5|    38.5|340.0|   340.0|550.0|      550.0|\n",
            "|        Braum|the Heart of the ...|        Tank|    Warden|  2014-05-12|     V11.19|              4800|     880|      Mana|540.0| 98.0|  2206.0| 8.5| 1.0|     25.5|311.0|45.0|  1076.0|  6.0| 0.8|     19.6|55.0| 3.2|   109.4|0.644|  3.5%|   1.02718|47.0| 4.0|   115.0|32.0|1.25|   53.25|335.0|   335.0|125.0|      125.0|\n",
            "|      Caitlyn|the Sheriff of Pi...|    Marksman|  Marksman|  2011-01-04|      V12.5|              4800|     880|      Mana|510.0| 93.0|  2091.0| 3.5|0.55|    12.85|315.0|35.0|   910.0|  7.4|0.55|    16.75|62.0| 3.4|   119.8|0.681|    4%|   1.14408|28.0| 3.5|    87.5|30.0| 0.5|    38.5|325.0|   325.0|650.0|      650.0|\n",
            "|      Camille|    the Steel Shadow|     Fighter|     Diver|  2016-12-07|     V11.24|              6300|     975|      Mana|576.0| 85.0|  2021.0| 8.5| 0.8|     22.1|339.0|52.0|  1223.0| 8.15|0.75|     20.9|68.0| 3.5|   127.5|0.644|  2.5%|    0.9177|35.0| 3.8|    99.6|32.1|1.25|   53.35|340.0|   340.0|125.0|      125.0|\n",
            "|   Cassiopeia|the Serpent's Emb...|        Mage|Battlemage|  2010-12-14|     V11.15|              4800|     880|      Mana|560.0| 90.0|  2090.0| 5.5| 0.5|     14.0|350.0|60.0|  1370.0|  8.0| 0.8|     21.6|53.0| 3.0|   104.0|0.647|  1.5%|  0.811985|18.0| 3.5|    77.5|32.0| 0.5|    40.5|328.0|   328.0|550.0|      550.0|\n",
            "|      Chogath|the Terror of the...|  Specialist|Specialist|  2009-06-26|     V11.20|              1350|     585|      Mana|574.0| 80.0|  1934.0| 9.0|0.85|    23.45|270.0|60.0|  1290.0|  7.2|0.45|    14.85|69.0| 4.2|   140.4|0.625| 1.44%|     0.778|38.0| 3.5|    97.5|32.0|1.25|   53.25|345.0|   345.0|125.0|      125.0|\n",
            "+-------------+--------------------+------------+----------+------------+-----------+------------------+--------+----------+-----+-----+--------+----+----+---------+-----+----+--------+-----+----+---------+----+----+--------+-----+------+----------+----+----+--------+----+----+--------+-----+--------+-----+-----------+\n",
            "only showing top 20 rows\n",
            "\n"
          ]
        }
      ],
      "source": [
        "df2.show()"
      ]
    },
    {
      "cell_type": "code",
      "execution_count": 121,
      "metadata": {
        "id": "HGOyeFBdyiEP"
      },
      "outputs": [],
      "source": []
    },
    {
      "cell_type": "markdown",
      "metadata": {
        "id": "9Wg5cf_4bl1s"
      },
      "source": [
        "#Champion Dataset Cleaning\n"
      ]
    },
    {
      "cell_type": "code",
      "execution_count": 122,
      "metadata": {
        "colab": {
          "base_uri": "https://localhost:8080/"
        },
        "id": "pwC1ide4ljos",
        "outputId": "f7f4c2c3-df5f-4785-efdb-211286e31df3"
      },
      "outputs": [
        {
          "name": "stdout",
          "output_type": "stream",
          "text": [
            "root\n",
            " |-- champion_name: string (nullable = false)\n",
            " |-- champion_title: string (nullable = true)\n",
            " |-- class: string (nullable = true)\n",
            " |-- playstyle: string (nullable = true)\n",
            " |-- date_release: date (nullable = true)\n",
            " |-- last_change: string (nullable = true)\n",
            " |-- blue_essence_price: string (nullable = true)\n",
            " |-- rp_price: string (nullable = true)\n",
            " |-- ressource: string (nullable = true)\n",
            " |-- HP: float (nullable = true)\n",
            " |-- HP+: float (nullable = true)\n",
            " |-- HP_lvl18: float (nullable = true)\n",
            " |-- HP5: float (nullable = true)\n",
            " |-- HP5+: float (nullable = true)\n",
            " |-- HP5_lvl18: float (nullable = true)\n",
            " |-- MP: float (nullable = true)\n",
            " |-- MP+: float (nullable = true)\n",
            " |-- MP_lvl18: float (nullable = true)\n",
            " |-- MP5: float (nullable = true)\n",
            " |-- MP5+: float (nullable = true)\n",
            " |-- MP5_lvl18: float (nullable = true)\n",
            " |-- AD: float (nullable = true)\n",
            " |-- AD+: float (nullable = true)\n",
            " |-- AD_lvl18: float (nullable = true)\n",
            " |-- AS: float (nullable = true)\n",
            " |-- AS+: string (nullable = true)\n",
            " |-- AS_lvl18: float (nullable = true)\n",
            " |-- AR: float (nullable = true)\n",
            " |-- AR+: float (nullable = true)\n",
            " |-- AR_lvl18: float (nullable = true)\n",
            " |-- MR: float (nullable = true)\n",
            " |-- MR+: float (nullable = true)\n",
            " |-- MR_lvl18: float (nullable = true)\n",
            " |-- MS: float (nullable = true)\n",
            " |-- MS_lvl18: float (nullable = true)\n",
            " |-- range: float (nullable = true)\n",
            " |-- range_lvl18: float (nullable = true)\n",
            "\n",
            "+-------------+--------------------+------------+----------+------------+-----------+------------------+--------+----------+-----+-----+--------+----+----+---------+-----+----+--------+-----+----+---------+----+----+--------+-----+------+----------+----+----+--------+----+----+--------+-----+--------+-----+-----------+\n",
            "|champion_name|      champion_title|       class| playstyle|date_release|last_change|blue_essence_price|rp_price| ressource|   HP|  HP+|HP_lvl18| HP5|HP5+|HP5_lvl18|   MP| MP+|MP_lvl18|  MP5|MP5+|MP5_lvl18|  AD| AD+|AD_lvl18|   AS|   AS+|  AS_lvl18|  AR| AR+|AR_lvl18|  MR| MR+|MR_lvl18|   MS|MS_lvl18|range|range_lvl18|\n",
            "+-------------+--------------------+------------+----------+------------+-----------+------------------+--------+----------+-----+-----+--------+----+----+---------+-----+----+--------+-----+----+---------+----+----+--------+-----+------+----------+----+----+--------+----+----+--------+-----+--------+-----+-----------+\n",
            "|       Aatrox|    the Darkin Blade|     Fighter|Juggernaut|  2013-06-13|      V12.4|              4800|     880|Blood Well|580.0| 90.0|  2110.0| 3.0| 1.0|     20.0|  0.0| 0.0|     0.0|  0.0| 0.0|      0.0|60.0| 5.0|   145.0|0.651|  2.5%|  0.927675|38.0|3.25|   93.25|32.0|1.25|   53.25|345.0|   345.0|175.0|      175.0|\n",
            "|         Ahri| the Nine-Tailed Fox|        Mage|     Burst|  2011-12-14|      V12.5|              3150|     790|      Mana|500.0| 82.0|  1894.0| 2.5| 0.6|     12.7|418.0|25.0|   843.0|  8.0| 0.8|     21.6|53.0| 3.0|   104.0|0.668|    2%|   0.89512|18.0| 3.5|    77.5|30.0| 0.5|    38.5|330.0|   330.0|550.0|      550.0|\n",
            "|        Akali|  the Rogue Assassin|      Slayer|  Assassin|  2010-05-11|     V11.22|              3150|     790|    Energy|500.0|105.0|  2285.0| 9.0| 0.9|     24.3|200.0| 0.0|   200.0| 50.0| 0.0|     50.0|62.0| 3.3|   118.1|0.625|  3.2%|     0.965|23.0| 3.5|    82.5|37.0|1.25|   58.25|345.0|   345.0|125.0|      125.0|\n",
            "|       Akshan|  the Rogue Sentinel|    Marksman|  Assassin|  2021-07-22|      V12.3|              6300|     975|      Mana|560.0| 90.0|  2090.0|3.75|0.65|     14.8|350.0|40.0|  1030.0|8.175| 0.7|   20.075|52.0| 3.5|   111.5|0.638|    4%|   1.07184|26.0| 3.0|    77.0|30.0| 0.5|    38.5|330.0|   330.0|500.0|      500.0|\n",
            "|      Alistar|        the Minotaur|        Tank|  Vanguard|  2009-02-21|     V11.11|              1350|     585|      Mana|600.0|106.0|  2402.0| 8.5|0.85|    22.95|350.0|40.0|  1030.0|  8.5| 0.8|     22.1|62.0|3.75|  125.75|0.625|2.125%|0.85078126|44.0| 3.5|   103.5|32.0|1.25|   53.25|330.0|   330.0|125.0|      125.0|\n",
            "|        Amumu|       the Sad Mummy|        Tank|  Vanguard|  2009-06-26|      V12.4|               450|     260|      Mana|615.0| 75.0|  1890.0| 9.0|0.85|    23.45|285.0|40.0|   965.0| 7.38|0.53|    16.39|53.0| 3.8|   117.6|0.736| 2.18%| 1.0087616|30.0| 3.0|    81.0|32.0|1.25|   53.25|335.0|   335.0|125.0|      125.0|\n",
            "|       Anivia|     the Cryophoenix|        Mage|Battlemage|  2009-07-10|     V11.20|              3150|     790|      Mana|480.0| 82.0|  1874.0| 5.5|0.55|    14.85|495.0|45.0|  1260.0|  8.0| 0.8|     21.6|51.0| 3.2|   105.4|0.625| 1.68%|    0.8035|21.0| 4.0|    89.0|30.0| 0.5|    38.5|325.0|   325.0|600.0|      600.0|\n",
            "|        Annie|      the Dark Child|        Mage|     Burst|  2009-02-21|     V11.15|               450|     260|      Mana|524.0| 88.0|  2020.0| 5.5|0.55|    14.85|418.0|25.0|   843.0|  8.0| 0.8|     21.6|50.0|2.63|   94.71|0.579| 1.36%| 0.7128648|19.0| 4.0|    87.0|30.0| 0.5|    38.5|335.0|   335.0|625.0|      625.0|\n",
            "|     Aphelios|the Weapon of the...|    Marksman|  Marksman|  2019-12-11|      V12.5|              6300|     975|      Mana|510.0| 88.0|  2006.0|3.25|0.55|     12.6|348.0|42.0|  1062.0|  6.5| 0.4|     13.3|55.0| 3.0|   106.0| 0.64|  2.1%|   0.86848|26.0| 3.0|    77.0|30.0| 0.5|    38.5|325.0|   325.0|550.0|      550.0|\n",
            "|         Ashe|    the Frost Archer|    Marksman|  Marksman|  2009-02-21|      V12.5|               450|     260|      Mana|570.0| 87.0|  2049.0| 3.5|0.55|    12.85|280.0|32.0|   824.0| 6.97| 0.4|    13.77|59.0|2.96|  109.32|0.658| 3.33%| 1.0304939|26.0| 3.4|    83.8|30.0| 0.5|    38.5|325.0|   325.0|600.0|      600.0|\n",
            "| Aurelion Sol|     The Star Forger|        Mage|Battlemage|  2016-03-24|     V11.21|              6300|     975|      Mana|575.0| 92.0|  2139.0| 7.0| 0.6|     17.2|350.0|50.0|  1200.0|  6.0| 0.8|     19.6|57.0| 3.2|   111.4|0.625| 1.36%|    0.7695|19.0| 3.6|    80.2|30.0| 0.5|    38.5|325.0|   325.0|550.0|      550.0|\n",
            "|         Azir|the Emperor of th...|  Specialist|Specialist|  2014-09-16|     V11.22|              4800|     880|      Mana|552.0| 92.0|  2116.0| 7.0|0.75|    19.75|480.0|21.0|   837.0|  8.0| 0.8|     21.6|52.0| 2.8|    99.6|0.625|    3%|   0.94375|19.0| 3.0|    70.0|30.0| 0.5|    38.5|335.0|   335.0|525.0|      525.0|\n",
            "|         Bard|the Wandering Car...|Controllerer|   Catcher|  2015-03-12|      V12.1|              4800|     880|      Mana|560.0| 89.0|  2073.0| 5.5|0.55|    14.85|350.0|50.0|  1200.0|  6.0|0.45|    13.65|52.0| 3.0|   103.0|0.625|    2%|    0.8375|34.0| 4.0|   102.0|30.0| 0.5|    38.5|330.0|   330.0|500.0|      500.0|\n",
            "|   Blitzcrank|the Great Steam G...|Controllerer|   Catcher|  2009-09-02|      V12.4|              3150|     790|      Mana|583.0| 95.0|  2198.0| 7.5|0.75|    20.25|267.0|40.0|   947.0|  8.5| 0.8|     22.1|62.0| 3.5|   121.5|0.625| 1.13%| 0.7450625|40.0| 3.5|    99.5|32.0|1.25|   53.25|325.0|   325.0|125.0|      125.0|\n",
            "|        Brand|the Burning Venge...|        Mage|     Burst|  2011-04-12|      V12.3|              4800|     880|      Mana|520.0| 88.0|  2016.0| 5.5|0.55|    14.85|469.0|21.0|   826.0|10.67| 0.6|    20.87|57.0| 3.0|   108.0|0.625| 1.36%|    0.7695|22.0| 3.5|    81.5|30.0| 0.5|    38.5|340.0|   340.0|550.0|      550.0|\n",
            "|        Braum|the Heart of the ...|        Tank|    Warden|  2014-05-12|     V11.19|              4800|     880|      Mana|540.0| 98.0|  2206.0| 8.5| 1.0|     25.5|311.0|45.0|  1076.0|  6.0| 0.8|     19.6|55.0| 3.2|   109.4|0.644|  3.5%|   1.02718|47.0| 4.0|   115.0|32.0|1.25|   53.25|335.0|   335.0|125.0|      125.0|\n",
            "|      Caitlyn|the Sheriff of Pi...|    Marksman|  Marksman|  2011-01-04|      V12.5|              4800|     880|      Mana|510.0| 93.0|  2091.0| 3.5|0.55|    12.85|315.0|35.0|   910.0|  7.4|0.55|    16.75|62.0| 3.4|   119.8|0.681|    4%|   1.14408|28.0| 3.5|    87.5|30.0| 0.5|    38.5|325.0|   325.0|650.0|      650.0|\n",
            "|      Camille|    the Steel Shadow|     Fighter|     Diver|  2016-12-07|     V11.24|              6300|     975|      Mana|576.0| 85.0|  2021.0| 8.5| 0.8|     22.1|339.0|52.0|  1223.0| 8.15|0.75|     20.9|68.0| 3.5|   127.5|0.644|  2.5%|    0.9177|35.0| 3.8|    99.6|32.1|1.25|   53.35|340.0|   340.0|125.0|      125.0|\n",
            "|   Cassiopeia|the Serpent's Emb...|        Mage|Battlemage|  2010-12-14|     V11.15|              4800|     880|      Mana|560.0| 90.0|  2090.0| 5.5| 0.5|     14.0|350.0|60.0|  1370.0|  8.0| 0.8|     21.6|53.0| 3.0|   104.0|0.647|  1.5%|  0.811985|18.0| 3.5|    77.5|32.0| 0.5|    40.5|328.0|   328.0|550.0|      550.0|\n",
            "|      Chogath|the Terror of the...|  Specialist|Specialist|  2009-06-26|     V11.20|              1350|     585|      Mana|574.0| 80.0|  1934.0| 9.0|0.85|    23.45|270.0|60.0|  1290.0|  7.2|0.45|    14.85|69.0| 4.2|   140.4|0.625| 1.44%|     0.778|38.0| 3.5|    97.5|32.0|1.25|   53.25|345.0|   345.0|125.0|      125.0|\n",
            "+-------------+--------------------+------------+----------+------------+-----------+------------------+--------+----------+-----+-----+--------+----+----+---------+-----+----+--------+-----+----+---------+----+----+--------+-----+------+----------+----+----+--------+----+----+--------+-----+--------+-----+-----------+\n",
            "only showing top 20 rows\n",
            "\n"
          ]
        }
      ],
      "source": [
        "# Converting champion_name to non-nullable\n",
        "df2 = df2.withColumn(\"champion_name\", F.coalesce(F.col(\"champion_name\"), F.lit(0)))\n",
        "\n",
        "#Changing date release to date datatype\n",
        "df2 = df2.withColumn('date_release', F.to_timestamp('date_release', 'dd/MM/yyyy'))\n",
        "df2 = df2.withColumn('date_release', F.to_date(col(\"date_release\"),\"dd-MM-yyyy\"))\n",
        "\n",
        "# Converting columns to double\n",
        "cols = cols = [ 'HP', 'HP+', 'HP_lvl18', 'HP5', 'HP5+', 'HP5_lvl18', 'MP', 'MP+', 'MP_lvl18', 'MP5', 'MP5+', 'MP5_lvl18', 'AD', 'AD+', 'AD_lvl18', 'AS', 'AS_lvl18', 'AR', 'AR+', 'AR_lvl18', 'MR', 'MR+', 'MR_lvl18', 'MS', 'MS_lvl18', 'range', 'range_lvl18']\n",
        "for col_name in cols:\n",
        "    df2 = df2.withColumn(col_name, col(col_name).cast('float'))\n",
        "\n",
        "# Displaying table\n",
        "df2.printSchema()\n",
        "df2.show()"
      ]
    },
    {
      "cell_type": "markdown",
      "metadata": {
        "id": "VFQiWJllbXL-"
      },
      "source": [
        "#Data Exploration"
      ]
    }
  ],
  "metadata": {
    "colab": {
      "collapsed_sections": [
        "h55H4RxQ2YbB",
        "9Wg5cf_4bl1s"
      ],
      "provenance": []
    },
    "kernelspec": {
      "display_name": "base",
      "language": "python",
      "name": "python3"
    },
    "language_info": {
      "codemirror_mode": {
        "name": "ipython",
        "version": 3
      },
      "file_extension": ".py",
      "mimetype": "text/x-python",
      "name": "python",
      "nbconvert_exporter": "python",
      "pygments_lexer": "ipython3",
      "version": "3.9.13"
    },
    "vscode": {
      "interpreter": {
        "hash": "905116d2753ec931db4cd35c372e67e47a57fd3c6752f80f2948e53468d3d8e0"
      }
    }
  },
  "nbformat": 4,
  "nbformat_minor": 0
}
